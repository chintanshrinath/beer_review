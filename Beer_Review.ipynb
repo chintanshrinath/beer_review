{
  "nbformat": 4,
  "nbformat_minor": 0,
  "metadata": {
    "colab": {
      "name": "Beer_Review.ipynb",
      "provenance": [],
      "collapsed_sections": [],
      "toc_visible": true,
      "mount_file_id": "1poajGP8DEIQh-cXLL871yRDUTekfzUtW",
      "authorship_tag": "ABX9TyOwZvJyx+zIQ5ouLKW3m1QJ",
      "include_colab_link": true
    },
    "kernelspec": {
      "name": "python3",
      "display_name": "Python 3"
    }
  },
  "cells": [
    {
      "cell_type": "markdown",
      "metadata": {
        "id": "view-in-github",
        "colab_type": "text"
      },
      "source": [
        "<a href=\"https://colab.research.google.com/github/chintanshrinath/beer_review/blob/main/Beer_Review.ipynb\" target=\"_parent\"><img src=\"https://colab.research.google.com/assets/colab-badge.svg\" alt=\"Open In Colab\"/></a>"
      ]
    },
    {
      "cell_type": "markdown",
      "metadata": {
        "id": "Dpqqyvq9cXXV"
      },
      "source": [
        "# **Evolent Health Technical Solution**"
      ]
    },
    {
      "cell_type": "markdown",
      "metadata": {
        "id": "0S6a-1n4clPN"
      },
      "source": [
        "#Import the libraries and Dataset"
      ]
    },
    {
      "cell_type": "code",
      "metadata": {
        "id": "ltjB2SP9Z0FM"
      },
      "source": [
        "import pandas as pd\n",
        "import seaborn as sns\n",
        "from scipy import stats\n",
        "import numpy as np\n",
        "import matplotlib.pyplot as plt\n",
        "from sklearn.ensemble import RandomForestRegressor\n",
        "plt.style.use(['dark_background'])\n",
        "sns.set(color_codes=True)"
      ],
      "execution_count": 75,
      "outputs": []
    },
    {
      "cell_type": "code",
      "metadata": {
        "id": "NI7XEf7Scd_h"
      },
      "source": [
        "beer_data = pd.read_csv('/content/drive/My Drive/Beer Review/BeerDataScienceProject.csv', encoding='latin-1')"
      ],
      "execution_count": 76,
      "outputs": []
    },
    {
      "cell_type": "markdown",
      "metadata": {
        "id": "Q-Ch2CwS-1di"
      },
      "source": [
        "#Inspecting the dataframe"
      ]
    },
    {
      "cell_type": "code",
      "metadata": {
        "id": "9kngZgMGHpyH",
        "outputId": "d273f2a2-37c6-49d7-9e85-63ec1fa05f4f",
        "colab": {
          "base_uri": "https://localhost:8080/",
          "height": 513
        }
      },
      "source": [
        "beer_data.head()"
      ],
      "execution_count": 77,
      "outputs": [
        {
          "output_type": "execute_result",
          "data": {
            "text/html": [
              "<div>\n",
              "<style scoped>\n",
              "    .dataframe tbody tr th:only-of-type {\n",
              "        vertical-align: middle;\n",
              "    }\n",
              "\n",
              "    .dataframe tbody tr th {\n",
              "        vertical-align: top;\n",
              "    }\n",
              "\n",
              "    .dataframe thead th {\n",
              "        text-align: right;\n",
              "    }\n",
              "</style>\n",
              "<table border=\"1\" class=\"dataframe\">\n",
              "  <thead>\n",
              "    <tr style=\"text-align: right;\">\n",
              "      <th></th>\n",
              "      <th>beer_ABV</th>\n",
              "      <th>beer_beerId</th>\n",
              "      <th>beer_brewerId</th>\n",
              "      <th>beer_name</th>\n",
              "      <th>beer_style</th>\n",
              "      <th>review_appearance</th>\n",
              "      <th>review_palette</th>\n",
              "      <th>review_overall</th>\n",
              "      <th>review_taste</th>\n",
              "      <th>review_profileName</th>\n",
              "      <th>review_aroma</th>\n",
              "      <th>review_text</th>\n",
              "      <th>review_time</th>\n",
              "    </tr>\n",
              "  </thead>\n",
              "  <tbody>\n",
              "    <tr>\n",
              "      <th>0</th>\n",
              "      <td>5.0</td>\n",
              "      <td>47986</td>\n",
              "      <td>10325</td>\n",
              "      <td>Sausa Weizen</td>\n",
              "      <td>Hefeweizen</td>\n",
              "      <td>2.5</td>\n",
              "      <td>2.0</td>\n",
              "      <td>1.5</td>\n",
              "      <td>1.5</td>\n",
              "      <td>stcules</td>\n",
              "      <td>1.5</td>\n",
              "      <td>A lot of foam. But a lot. In the smell some ba...</td>\n",
              "      <td>1234817823</td>\n",
              "    </tr>\n",
              "    <tr>\n",
              "      <th>1</th>\n",
              "      <td>6.2</td>\n",
              "      <td>48213</td>\n",
              "      <td>10325</td>\n",
              "      <td>Red Moon</td>\n",
              "      <td>English Strong Ale</td>\n",
              "      <td>3.0</td>\n",
              "      <td>2.5</td>\n",
              "      <td>3.0</td>\n",
              "      <td>3.0</td>\n",
              "      <td>stcules</td>\n",
              "      <td>3.0</td>\n",
              "      <td>Dark red color, light beige foam, average. In ...</td>\n",
              "      <td>1235915097</td>\n",
              "    </tr>\n",
              "    <tr>\n",
              "      <th>2</th>\n",
              "      <td>6.5</td>\n",
              "      <td>48215</td>\n",
              "      <td>10325</td>\n",
              "      <td>Black Horse Black Beer</td>\n",
              "      <td>Foreign / Export Stout</td>\n",
              "      <td>3.0</td>\n",
              "      <td>2.5</td>\n",
              "      <td>3.0</td>\n",
              "      <td>3.0</td>\n",
              "      <td>stcules</td>\n",
              "      <td>3.0</td>\n",
              "      <td>Almost totally black. Beige foam, quite compac...</td>\n",
              "      <td>1235916604</td>\n",
              "    </tr>\n",
              "    <tr>\n",
              "      <th>3</th>\n",
              "      <td>5.0</td>\n",
              "      <td>47969</td>\n",
              "      <td>10325</td>\n",
              "      <td>Sausa Pils</td>\n",
              "      <td>German Pilsener</td>\n",
              "      <td>3.5</td>\n",
              "      <td>3.0</td>\n",
              "      <td>3.0</td>\n",
              "      <td>2.5</td>\n",
              "      <td>stcules</td>\n",
              "      <td>3.0</td>\n",
              "      <td>Golden yellow color. White, compact foam, quit...</td>\n",
              "      <td>1234725145</td>\n",
              "    </tr>\n",
              "    <tr>\n",
              "      <th>4</th>\n",
              "      <td>7.7</td>\n",
              "      <td>64883</td>\n",
              "      <td>1075</td>\n",
              "      <td>Cauldron DIPA</td>\n",
              "      <td>American Double / Imperial IPA</td>\n",
              "      <td>4.0</td>\n",
              "      <td>4.5</td>\n",
              "      <td>4.0</td>\n",
              "      <td>4.0</td>\n",
              "      <td>johnmichaelsen</td>\n",
              "      <td>4.5</td>\n",
              "      <td>According to the website, the style for the Ca...</td>\n",
              "      <td>1293735206</td>\n",
              "    </tr>\n",
              "  </tbody>\n",
              "</table>\n",
              "</div>"
            ],
            "text/plain": [
              "   beer_ABV  ...  review_time\n",
              "0       5.0  ...   1234817823\n",
              "1       6.2  ...   1235915097\n",
              "2       6.5  ...   1235916604\n",
              "3       5.0  ...   1234725145\n",
              "4       7.7  ...   1293735206\n",
              "\n",
              "[5 rows x 13 columns]"
            ]
          },
          "metadata": {
            "tags": []
          },
          "execution_count": 77
        }
      ]
    },
    {
      "cell_type": "code",
      "metadata": {
        "id": "d2K_UWmZHvyS",
        "outputId": "2d6a861c-0c73-4839-ccd9-5ddf690b6f5a",
        "colab": {
          "base_uri": "https://localhost:8080/",
          "height": 34
        }
      },
      "source": [
        "len(beer_data['beer_brewerId'].unique())"
      ],
      "execution_count": 78,
      "outputs": [
        {
          "output_type": "execute_result",
          "data": {
            "text/plain": [
              "1803"
            ]
          },
          "metadata": {
            "tags": []
          },
          "execution_count": 78
        }
      ]
    },
    {
      "cell_type": "code",
      "metadata": {
        "id": "iuyAoB9z-w2j",
        "outputId": "bedc0358-84fb-4eab-cf7c-f95fdb572864",
        "colab": {
          "base_uri": "https://localhost:8080/",
          "height": 357
        }
      },
      "source": [
        "beer_data.info()"
      ],
      "execution_count": 79,
      "outputs": [
        {
          "output_type": "stream",
          "text": [
            "<class 'pandas.core.frame.DataFrame'>\n",
            "RangeIndex: 528870 entries, 0 to 528869\n",
            "Data columns (total 13 columns):\n",
            " #   Column              Non-Null Count   Dtype  \n",
            "---  ------              --------------   -----  \n",
            " 0   beer_ABV            508590 non-null  float64\n",
            " 1   beer_beerId         528870 non-null  int64  \n",
            " 2   beer_brewerId       528870 non-null  int64  \n",
            " 3   beer_name           528870 non-null  object \n",
            " 4   beer_style          528870 non-null  object \n",
            " 5   review_appearance   528870 non-null  float64\n",
            " 6   review_palette      528870 non-null  float64\n",
            " 7   review_overall      528870 non-null  float64\n",
            " 8   review_taste        528870 non-null  float64\n",
            " 9   review_profileName  528755 non-null  object \n",
            " 10  review_aroma        528870 non-null  float64\n",
            " 11  review_text         528751 non-null  object \n",
            " 12  review_time         528870 non-null  int64  \n",
            "dtypes: float64(6), int64(3), object(4)\n",
            "memory usage: 52.5+ MB\n"
          ],
          "name": "stdout"
        }
      ]
    },
    {
      "cell_type": "markdown",
      "metadata": {
        "id": "c28HRjnd-9FH"
      },
      "source": [
        "#Checking missing values analysis, if it is there and drop observation"
      ]
    },
    {
      "cell_type": "code",
      "metadata": {
        "id": "vno3PhB2-0Ux",
        "outputId": "513216d4-acb0-4069-af25-1659d3789b70",
        "colab": {
          "base_uri": "https://localhost:8080/",
          "height": 255
        }
      },
      "source": [
        "beer_data.isnull().sum()"
      ],
      "execution_count": 80,
      "outputs": [
        {
          "output_type": "execute_result",
          "data": {
            "text/plain": [
              "beer_ABV              20280\n",
              "beer_beerId               0\n",
              "beer_brewerId             0\n",
              "beer_name                 0\n",
              "beer_style                0\n",
              "review_appearance         0\n",
              "review_palette            0\n",
              "review_overall            0\n",
              "review_taste              0\n",
              "review_profileName      115\n",
              "review_aroma              0\n",
              "review_text             119\n",
              "review_time               0\n",
              "dtype: int64"
            ]
          },
          "metadata": {
            "tags": []
          },
          "execution_count": 80
        }
      ]
    },
    {
      "cell_type": "code",
      "metadata": {
        "id": "BgCNU4oF_Iai"
      },
      "source": [
        "beer_data.dropna(inplace =  True)"
      ],
      "execution_count": 81,
      "outputs": []
    },
    {
      "cell_type": "code",
      "metadata": {
        "id": "qNrPU7qE_M53",
        "outputId": "5cc54e52-6027-448e-b519-e8a6d28b4991",
        "colab": {
          "base_uri": "https://localhost:8080/",
          "height": 255
        }
      },
      "source": [
        "beer_data.isnull().sum()"
      ],
      "execution_count": 82,
      "outputs": [
        {
          "output_type": "execute_result",
          "data": {
            "text/plain": [
              "beer_ABV              0\n",
              "beer_beerId           0\n",
              "beer_brewerId         0\n",
              "beer_name             0\n",
              "beer_style            0\n",
              "review_appearance     0\n",
              "review_palette        0\n",
              "review_overall        0\n",
              "review_taste          0\n",
              "review_profileName    0\n",
              "review_aroma          0\n",
              "review_text           0\n",
              "review_time           0\n",
              "dtype: int64"
            ]
          },
          "metadata": {
            "tags": []
          },
          "execution_count": 82
        }
      ]
    },
    {
      "cell_type": "markdown",
      "metadata": {
        "id": "IkfmWpLAQvk4"
      },
      "source": [
        "# **Question : 1 Rank top 3 Breweries which produce the strongest beers?**\n",
        "\n"
      ]
    },
    {
      "cell_type": "markdown",
      "metadata": {
        "id": "W_eqmsz3JGCm"
      },
      "source": [
        "As per column headers, we will use beer_brewerId to get the strongest beers\n",
        "\n",
        "Moreover, the strongest factor, we can decide beased on **Alcohol by volume (ABV)**, as there is only one factor, present in the dataset.\n",
        "\n",
        "Therefore, we will use beer_ABV to dervied strongest beers\n"
      ]
    },
    {
      "cell_type": "code",
      "metadata": {
        "id": "gCJ8XWSJ_aPn",
        "outputId": "91f819c4-0b56-4a81-83c5-bddc6061217b",
        "colab": {
          "base_uri": "https://localhost:8080/",
          "height": 221
        }
      },
      "source": [
        "beer_data['beer_name'].value_counts()"
      ],
      "execution_count": 83,
      "outputs": [
        {
          "output_type": "execute_result",
          "data": {
            "text/plain": [
              "Sierra Nevada Celebration Ale                 2998\n",
              "Sierra Nevada Pale Ale                        2586\n",
              "Founders Breakfast Stout                      2501\n",
              "Sierra Nevada Bigfoot Barleywine Style Ale    2491\n",
              "La Fin Du Monde                               2480\n",
              "                                              ... \n",
              "Malaprop 8                                       1\n",
              "Folklore (Coffee)                                1\n",
              "Farfadet                                         1\n",
              "Svaneke Choco Stout                              1\n",
              "Croaking Lizard Brown Ale                        1\n",
              "Name: beer_name, Length: 14028, dtype: int64"
            ]
          },
          "metadata": {
            "tags": []
          },
          "execution_count": 83
        }
      ]
    },
    {
      "cell_type": "markdown",
      "metadata": {
        "id": "a1fJaQeUv6sy"
      },
      "source": [
        "#Peforming outlier analysis using box plot"
      ]
    },
    {
      "cell_type": "code",
      "metadata": {
        "id": "2wUMRFNtsYEF"
      },
      "source": [
        "factors = pd.DataFrame(beer_data[['beer_ABV','beer_brewerId']])"
      ],
      "execution_count": 84,
      "outputs": []
    },
    {
      "cell_type": "code",
      "metadata": {
        "id": "h_vM-7F0Zsz3",
        "outputId": "43ea2671-8659-46b4-a46a-9405afba5e84",
        "colab": {
          "base_uri": "https://localhost:8080/",
          "height": 34
        }
      },
      "source": [
        "factors.columns"
      ],
      "execution_count": 85,
      "outputs": [
        {
          "output_type": "execute_result",
          "data": {
            "text/plain": [
              "Index(['beer_ABV', 'beer_brewerId'], dtype='object')"
            ]
          },
          "metadata": {
            "tags": []
          },
          "execution_count": 85
        }
      ]
    },
    {
      "cell_type": "code",
      "metadata": {
        "id": "IjJfS04eslrZ",
        "outputId": "6289291b-0785-422b-b12d-95fb84a4bfda",
        "colab": {
          "base_uri": "https://localhost:8080/",
          "height": 204
        }
      },
      "source": [
        "factors.head()"
      ],
      "execution_count": 86,
      "outputs": [
        {
          "output_type": "execute_result",
          "data": {
            "text/html": [
              "<div>\n",
              "<style scoped>\n",
              "    .dataframe tbody tr th:only-of-type {\n",
              "        vertical-align: middle;\n",
              "    }\n",
              "\n",
              "    .dataframe tbody tr th {\n",
              "        vertical-align: top;\n",
              "    }\n",
              "\n",
              "    .dataframe thead th {\n",
              "        text-align: right;\n",
              "    }\n",
              "</style>\n",
              "<table border=\"1\" class=\"dataframe\">\n",
              "  <thead>\n",
              "    <tr style=\"text-align: right;\">\n",
              "      <th></th>\n",
              "      <th>beer_ABV</th>\n",
              "      <th>beer_brewerId</th>\n",
              "    </tr>\n",
              "  </thead>\n",
              "  <tbody>\n",
              "    <tr>\n",
              "      <th>0</th>\n",
              "      <td>5.0</td>\n",
              "      <td>10325</td>\n",
              "    </tr>\n",
              "    <tr>\n",
              "      <th>1</th>\n",
              "      <td>6.2</td>\n",
              "      <td>10325</td>\n",
              "    </tr>\n",
              "    <tr>\n",
              "      <th>2</th>\n",
              "      <td>6.5</td>\n",
              "      <td>10325</td>\n",
              "    </tr>\n",
              "    <tr>\n",
              "      <th>3</th>\n",
              "      <td>5.0</td>\n",
              "      <td>10325</td>\n",
              "    </tr>\n",
              "    <tr>\n",
              "      <th>4</th>\n",
              "      <td>7.7</td>\n",
              "      <td>1075</td>\n",
              "    </tr>\n",
              "  </tbody>\n",
              "</table>\n",
              "</div>"
            ],
            "text/plain": [
              "   beer_ABV  beer_brewerId\n",
              "0       5.0          10325\n",
              "1       6.2          10325\n",
              "2       6.5          10325\n",
              "3       5.0          10325\n",
              "4       7.7           1075"
            ]
          },
          "metadata": {
            "tags": []
          },
          "execution_count": 86
        }
      ]
    },
    {
      "cell_type": "code",
      "metadata": {
        "id": "ZyNAa485s1XD",
        "outputId": "568ec140-20d3-4c8c-a1bf-7b1ffeafed3c",
        "colab": {
          "base_uri": "https://localhost:8080/",
          "height": 302
        }
      },
      "source": [
        "sns.boxplot(x=factors['beer_ABV'])"
      ],
      "execution_count": 87,
      "outputs": [
        {
          "output_type": "execute_result",
          "data": {
            "text/plain": [
              "<matplotlib.axes._subplots.AxesSubplot at 0x7f0234790ba8>"
            ]
          },
          "metadata": {
            "tags": []
          },
          "execution_count": 87
        },
        {
          "output_type": "display_data",
          "data": {
            "image/png": "[encoded data removed]",
            "text/plain": [
              "<Figure size 432x288 with 1 Axes>"
            ]
          },
          "metadata": {
            "tags": []
          }
        }
      ]
    },
    {
      "cell_type": "code",
      "metadata": {
        "id": "QyZugJi9TnCM",
        "outputId": "aecbe9ca-7c18-4312-ca00-701cdcd4d495",
        "colab": {
          "base_uri": "https://localhost:8080/",
          "height": 68
        }
      },
      "source": [
        "Q1 = factors.quantile(0.25)\n",
        "Q3 = factors.quantile(0.75)\n",
        "IQR = Q3 - Q1\n",
        "print(IQR)"
      ],
      "execution_count": 88,
      "outputs": [
        {
          "output_type": "stream",
          "text": [
            "beer_ABV            3.2\n",
            "beer_brewerId    1183.0\n",
            "dtype: float64\n"
          ],
          "name": "stdout"
        }
      ]
    },
    {
      "cell_type": "code",
      "metadata": {
        "id": "7p6dWnyXumLN",
        "outputId": "9a70923f-e172-4a88-9235-42b6fce018db",
        "colab": {
          "base_uri": "https://localhost:8080/",
          "height": 34
        }
      },
      "source": [
        "factors.shape"
      ],
      "execution_count": 89,
      "outputs": [
        {
          "output_type": "execute_result",
          "data": {
            "text/plain": [
              "(508358, 2)"
            ]
          },
          "metadata": {
            "tags": []
          },
          "execution_count": 89
        }
      ]
    },
    {
      "cell_type": "code",
      "metadata": {
        "id": "Cuz2ZRnVaOfr"
      },
      "source": [
        "factors_out = factors[~((factors < (Q1 - 1.5 * IQR)) |(factors > (Q3 + 1.5 * IQR))).any(axis=1)]"
      ],
      "execution_count": 90,
      "outputs": []
    },
    {
      "cell_type": "code",
      "metadata": {
        "id": "BPIq0bi7T9eb"
      },
      "source": [
        "factor_out= factors['beer_ABV'][~((factors['beer_ABV'] < (Q1 - 1.5 * IQR)) |(factors['beer_ABV'] > (Q3 + 1.5 * IQR))).any(axis=1)]"
      ],
      "execution_count": null,
      "outputs": []
    },
    {
      "cell_type": "code",
      "metadata": {
        "id": "6NzIAXfndCCj"
      },
      "source": [
        "factor_out= factors[~((factors < (Q1 - 1.5 * IQR)) |(factors > (Q3 + 1.5 * IQR))).any(axis=1)]"
      ],
      "execution_count": null,
      "outputs": []
    },
    {
      "cell_type": "code",
      "metadata": {
        "id": "2m7HwGLAujr5",
        "outputId": "914c580f-c3ff-4cb3-b68e-8eda86450214",
        "colab": {
          "base_uri": "https://localhost:8080/",
          "height": 34
        }
      },
      "source": [
        "factors_out.shape"
      ],
      "execution_count": 91,
      "outputs": [
        {
          "output_type": "execute_result",
          "data": {
            "text/plain": [
              "(412318, 2)"
            ]
          },
          "metadata": {
            "tags": []
          },
          "execution_count": 91
        }
      ]
    },
    {
      "cell_type": "code",
      "metadata": {
        "id": "_w5NdzJ_ZdjQ",
        "outputId": "f5e6d81d-7024-46cd-96c5-c2a7f055f58c",
        "colab": {
          "base_uri": "https://localhost:8080/",
          "height": 34
        }
      },
      "source": [
        "factors.columns"
      ],
      "execution_count": 92,
      "outputs": [
        {
          "output_type": "execute_result",
          "data": {
            "text/plain": [
              "Index(['beer_ABV', 'beer_brewerId'], dtype='object')"
            ]
          },
          "metadata": {
            "tags": []
          },
          "execution_count": 92
        }
      ]
    },
    {
      "cell_type": "code",
      "metadata": {
        "id": "O-GXzATEMVhk"
      },
      "source": [
        "q1_beer_data = factors.groupby('beer_brewerId')['beer_ABV'].mean()\n",
        "strong_brewer = pd.DataFrame(q1_beer_data.reset_index())"
      ],
      "execution_count": 93,
      "outputs": []
    },
    {
      "cell_type": "code",
      "metadata": {
        "id": "zpyyHgmRNiXZ"
      },
      "source": [
        "strong_brewer = pd.DataFrame(q1_beer_data.reset_index())"
      ],
      "execution_count": 94,
      "outputs": []
    },
    {
      "cell_type": "code",
      "metadata": {
        "id": "EsZpBNdVNs7e",
        "outputId": "893f63f4-59f4-49be-832a-64f3f35d0972",
        "colab": {
          "base_uri": "https://localhost:8080/",
          "height": 419
        }
      },
      "source": [
        "strong_brewer"
      ],
      "execution_count": 95,
      "outputs": [
        {
          "output_type": "execute_result",
          "data": {
            "text/html": [
              "<div>\n",
              "<style scoped>\n",
              "    .dataframe tbody tr th:only-of-type {\n",
              "        vertical-align: middle;\n",
              "    }\n",
              "\n",
              "    .dataframe tbody tr th {\n",
              "        vertical-align: top;\n",
              "    }\n",
              "\n",
              "    .dataframe thead th {\n",
              "        text-align: right;\n",
              "    }\n",
              "</style>\n",
              "<table border=\"1\" class=\"dataframe\">\n",
              "  <thead>\n",
              "    <tr style=\"text-align: right;\">\n",
              "      <th></th>\n",
              "      <th>beer_brewerId</th>\n",
              "      <th>beer_ABV</th>\n",
              "    </tr>\n",
              "  </thead>\n",
              "  <tbody>\n",
              "    <tr>\n",
              "      <th>0</th>\n",
              "      <td>1</td>\n",
              "      <td>4.438717</td>\n",
              "    </tr>\n",
              "    <tr>\n",
              "      <th>1</th>\n",
              "      <td>3</td>\n",
              "      <td>5.537475</td>\n",
              "    </tr>\n",
              "    <tr>\n",
              "      <th>2</th>\n",
              "      <td>5</td>\n",
              "      <td>4.790072</td>\n",
              "    </tr>\n",
              "    <tr>\n",
              "      <th>3</th>\n",
              "      <td>10</td>\n",
              "      <td>4.973214</td>\n",
              "    </tr>\n",
              "    <tr>\n",
              "      <th>4</th>\n",
              "      <td>14</td>\n",
              "      <td>6.939831</td>\n",
              "    </tr>\n",
              "    <tr>\n",
              "      <th>...</th>\n",
              "      <td>...</td>\n",
              "      <td>...</td>\n",
              "    </tr>\n",
              "    <tr>\n",
              "      <th>1602</th>\n",
              "      <td>27870</td>\n",
              "      <td>6.000000</td>\n",
              "    </tr>\n",
              "    <tr>\n",
              "      <th>1603</th>\n",
              "      <td>27879</td>\n",
              "      <td>5.500000</td>\n",
              "    </tr>\n",
              "    <tr>\n",
              "      <th>1604</th>\n",
              "      <td>27917</td>\n",
              "      <td>8.000000</td>\n",
              "    </tr>\n",
              "    <tr>\n",
              "      <th>1605</th>\n",
              "      <td>27922</td>\n",
              "      <td>7.450000</td>\n",
              "    </tr>\n",
              "    <tr>\n",
              "      <th>1606</th>\n",
              "      <td>27980</td>\n",
              "      <td>4.666667</td>\n",
              "    </tr>\n",
              "  </tbody>\n",
              "</table>\n",
              "<p>1607 rows × 2 columns</p>\n",
              "</div>"
            ],
            "text/plain": [
              "      beer_brewerId  beer_ABV\n",
              "0                 1  4.438717\n",
              "1                 3  5.537475\n",
              "2                 5  4.790072\n",
              "3                10  4.973214\n",
              "4                14  6.939831\n",
              "...             ...       ...\n",
              "1602          27870  6.000000\n",
              "1603          27879  5.500000\n",
              "1604          27917  8.000000\n",
              "1605          27922  7.450000\n",
              "1606          27980  4.666667\n",
              "\n",
              "[1607 rows x 2 columns]"
            ]
          },
          "metadata": {
            "tags": []
          },
          "execution_count": 95
        }
      ]
    },
    {
      "cell_type": "code",
      "metadata": {
        "id": "IH-mHn2jMqlR"
      },
      "source": [
        "sort_by_ABV_value = strong_brewer.sort_values(['beer_ABV','beer_brewerId'], ascending =[False,False])"
      ],
      "execution_count": 96,
      "outputs": []
    },
    {
      "cell_type": "markdown",
      "metadata": {
        "id": "6qHJgAgSPJso"
      },
      "source": [
        "As per analysis, we can say that the top 3 breweries are 6513, 736 and 24215  and beer_ABV values 19.22, 13.75 and 12.46 respectively"
      ]
    },
    {
      "cell_type": "code",
      "metadata": {
        "id": "3j956RyWN1Q4",
        "outputId": "08de7217-272c-4345-a239-a540e6339cd5",
        "colab": {
          "base_uri": "https://localhost:8080/",
          "height": 142
        }
      },
      "source": [
        "sort_by_ABV_value[:3]"
      ],
      "execution_count": 97,
      "outputs": [
        {
          "output_type": "execute_result",
          "data": {
            "text/html": [
              "<div>\n",
              "<style scoped>\n",
              "    .dataframe tbody tr th:only-of-type {\n",
              "        vertical-align: middle;\n",
              "    }\n",
              "\n",
              "    .dataframe tbody tr th {\n",
              "        vertical-align: top;\n",
              "    }\n",
              "\n",
              "    .dataframe thead th {\n",
              "        text-align: right;\n",
              "    }\n",
              "</style>\n",
              "<table border=\"1\" class=\"dataframe\">\n",
              "  <thead>\n",
              "    <tr style=\"text-align: right;\">\n",
              "      <th></th>\n",
              "      <th>beer_brewerId</th>\n",
              "      <th>beer_ABV</th>\n",
              "    </tr>\n",
              "  </thead>\n",
              "  <tbody>\n",
              "    <tr>\n",
              "      <th>699</th>\n",
              "      <td>6513</td>\n",
              "      <td>19.228824</td>\n",
              "    </tr>\n",
              "    <tr>\n",
              "      <th>165</th>\n",
              "      <td>736</td>\n",
              "      <td>13.750000</td>\n",
              "    </tr>\n",
              "    <tr>\n",
              "      <th>1466</th>\n",
              "      <td>24215</td>\n",
              "      <td>12.466667</td>\n",
              "    </tr>\n",
              "  </tbody>\n",
              "</table>\n",
              "</div>"
            ],
            "text/plain": [
              "      beer_brewerId   beer_ABV\n",
              "699            6513  19.228824\n",
              "165             736  13.750000\n",
              "1466          24215  12.466667"
            ]
          },
          "metadata": {
            "tags": []
          },
          "execution_count": 97
        }
      ]
    },
    {
      "cell_type": "markdown",
      "metadata": {
        "id": "bzRTy3CjfYT8"
      },
      "source": [
        "# Answer 1 As per analysis, we can say that the top 3 breweries are 6513, 736 and 24215  and beer_ABV values 19.22, 13.75 and 12.46 respectively\n"
      ]
    },
    {
      "cell_type": "markdown",
      "metadata": {
        "id": "zta9f5-9Qkes"
      },
      "source": [
        "# Question 2 Which year did beers enjoy the highest ratings?"
      ]
    },
    {
      "cell_type": "markdown",
      "metadata": {
        "id": "AtOxVsJRRGJN"
      },
      "source": [
        "#Answer 2 As there is no specific column that mentioned data and time to derived the answer"
      ]
    },
    {
      "cell_type": "markdown",
      "metadata": {
        "id": "yNhJLgTURQe0"
      },
      "source": [
        "# Question 3 Based on the user’s ratings which factors are important among taste, aroma, appearance, and palette?"
      ]
    },
    {
      "cell_type": "markdown",
      "metadata": {
        "id": "U9IN7rBmeOwW"
      },
      "source": [
        "There are four features on basis of users have rate the beer. These are taste, aroma, apperance and palette"
      ]
    },
    {
      "cell_type": "code",
      "metadata": {
        "id": "8E9XeWhSRVma"
      },
      "source": [
        "q3_sol = beer_data[['review_appearance','review_palette','review_taste','review_aroma']]"
      ],
      "execution_count": 98,
      "outputs": []
    },
    {
      "cell_type": "code",
      "metadata": {
        "id": "8rBrRI3sivPg",
        "outputId": "615cf073-24ff-45f4-8959-4a26fa43ecf3",
        "colab": {
          "base_uri": "https://localhost:8080/",
          "height": 269
        }
      },
      "source": [
        "sns.violinplot(data = q3_sol);"
      ],
      "execution_count": 99,
      "outputs": [
        {
          "output_type": "display_data",
          "data": {
            "image/png": "[encoded data removed]",
            "text/plain": [
              "<Figure size 432x288 with 1 Axes>"
            ]
          },
          "metadata": {
            "tags": []
          }
        }
      ]
    },
    {
      "cell_type": "code",
      "metadata": {
        "id": "VqxDllbnZqPP",
        "outputId": "bcc73f69-5670-4d15-fc30-a1a28433b742",
        "colab": {
          "base_uri": "https://localhost:8080/",
          "height": 204
        }
      },
      "source": [
        "q3_sol.info()"
      ],
      "execution_count": 100,
      "outputs": [
        {
          "output_type": "stream",
          "text": [
            "<class 'pandas.core.frame.DataFrame'>\n",
            "Int64Index: 508358 entries, 0 to 528796\n",
            "Data columns (total 4 columns):\n",
            " #   Column             Non-Null Count   Dtype  \n",
            "---  ------             --------------   -----  \n",
            " 0   review_appearance  508358 non-null  float64\n",
            " 1   review_palette     508358 non-null  float64\n",
            " 2   review_taste       508358 non-null  float64\n",
            " 3   review_aroma       508358 non-null  float64\n",
            "dtypes: float64(4)\n",
            "memory usage: 19.4 MB\n"
          ],
          "name": "stdout"
        }
      ]
    },
    {
      "cell_type": "code",
      "metadata": {
        "id": "0q6KxJzXfHBw",
        "outputId": "64a99dd8-1e39-4c6d-903f-f1027ecaf68c",
        "colab": {
          "base_uri": "https://localhost:8080/",
          "height": 204
        }
      },
      "source": [
        "q3_sol.head()"
      ],
      "execution_count": 101,
      "outputs": [
        {
          "output_type": "execute_result",
          "data": {
            "text/html": [
              "<div>\n",
              "<style scoped>\n",
              "    .dataframe tbody tr th:only-of-type {\n",
              "        vertical-align: middle;\n",
              "    }\n",
              "\n",
              "    .dataframe tbody tr th {\n",
              "        vertical-align: top;\n",
              "    }\n",
              "\n",
              "    .dataframe thead th {\n",
              "        text-align: right;\n",
              "    }\n",
              "</style>\n",
              "<table border=\"1\" class=\"dataframe\">\n",
              "  <thead>\n",
              "    <tr style=\"text-align: right;\">\n",
              "      <th></th>\n",
              "      <th>review_appearance</th>\n",
              "      <th>review_palette</th>\n",
              "      <th>review_taste</th>\n",
              "      <th>review_aroma</th>\n",
              "    </tr>\n",
              "  </thead>\n",
              "  <tbody>\n",
              "    <tr>\n",
              "      <th>0</th>\n",
              "      <td>2.5</td>\n",
              "      <td>2.0</td>\n",
              "      <td>1.5</td>\n",
              "      <td>1.5</td>\n",
              "    </tr>\n",
              "    <tr>\n",
              "      <th>1</th>\n",
              "      <td>3.0</td>\n",
              "      <td>2.5</td>\n",
              "      <td>3.0</td>\n",
              "      <td>3.0</td>\n",
              "    </tr>\n",
              "    <tr>\n",
              "      <th>2</th>\n",
              "      <td>3.0</td>\n",
              "      <td>2.5</td>\n",
              "      <td>3.0</td>\n",
              "      <td>3.0</td>\n",
              "    </tr>\n",
              "    <tr>\n",
              "      <th>3</th>\n",
              "      <td>3.5</td>\n",
              "      <td>3.0</td>\n",
              "      <td>2.5</td>\n",
              "      <td>3.0</td>\n",
              "    </tr>\n",
              "    <tr>\n",
              "      <th>4</th>\n",
              "      <td>4.0</td>\n",
              "      <td>4.5</td>\n",
              "      <td>4.0</td>\n",
              "      <td>4.5</td>\n",
              "    </tr>\n",
              "  </tbody>\n",
              "</table>\n",
              "</div>"
            ],
            "text/plain": [
              "   review_appearance  review_palette  review_taste  review_aroma\n",
              "0                2.5             2.0           1.5           1.5\n",
              "1                3.0             2.5           3.0           3.0\n",
              "2                3.0             2.5           3.0           3.0\n",
              "3                3.5             3.0           2.5           3.0\n",
              "4                4.0             4.5           4.0           4.5"
            ]
          },
          "metadata": {
            "tags": []
          },
          "execution_count": 101
        }
      ]
    },
    {
      "cell_type": "code",
      "metadata": {
        "id": "FDdsxekufin4",
        "outputId": "536ba29e-c958-431a-fd21-f3c7e3641365",
        "colab": {
          "base_uri": "https://localhost:8080/",
          "height": 370
        }
      },
      "source": [
        "correaltion_analysis = q3_sol.corr()\n",
        "sns.heatmap(correaltion_analysis)\n",
        "plt.show()"
      ],
      "execution_count": 102,
      "outputs": [
        {
          "output_type": "display_data",
          "data": {
            "image/png": "[encoded data removed]",
            "text/plain": [
              "<Figure size 432x288 with 2 Axes>"
            ]
          },
          "metadata": {
            "tags": []
          }
        }
      ]
    },
    {
      "cell_type": "code",
      "metadata": {
        "id": "hCGPpGC7gFmN",
        "outputId": "1644a79f-d359-4723-d8ed-d4c027cac9af",
        "colab": {
          "base_uri": "https://localhost:8080/",
          "height": 173
        }
      },
      "source": [
        "display(q3_sol.corr())"
      ],
      "execution_count": 103,
      "outputs": [
        {
          "output_type": "display_data",
          "data": {
            "text/html": [
              "<div>\n",
              "<style scoped>\n",
              "    .dataframe tbody tr th:only-of-type {\n",
              "        vertical-align: middle;\n",
              "    }\n",
              "\n",
              "    .dataframe tbody tr th {\n",
              "        vertical-align: top;\n",
              "    }\n",
              "\n",
              "    .dataframe thead th {\n",
              "        text-align: right;\n",
              "    }\n",
              "</style>\n",
              "<table border=\"1\" class=\"dataframe\">\n",
              "  <thead>\n",
              "    <tr style=\"text-align: right;\">\n",
              "      <th></th>\n",
              "      <th>review_appearance</th>\n",
              "      <th>review_palette</th>\n",
              "      <th>review_taste</th>\n",
              "      <th>review_aroma</th>\n",
              "    </tr>\n",
              "  </thead>\n",
              "  <tbody>\n",
              "    <tr>\n",
              "      <th>review_appearance</th>\n",
              "      <td>1.000000</td>\n",
              "      <td>0.544724</td>\n",
              "      <td>0.551979</td>\n",
              "      <td>0.531204</td>\n",
              "    </tr>\n",
              "    <tr>\n",
              "      <th>review_palette</th>\n",
              "      <td>0.544724</td>\n",
              "      <td>1.000000</td>\n",
              "      <td>0.600842</td>\n",
              "      <td>0.703428</td>\n",
              "    </tr>\n",
              "    <tr>\n",
              "      <th>review_taste</th>\n",
              "      <td>0.551979</td>\n",
              "      <td>0.600842</td>\n",
              "      <td>1.000000</td>\n",
              "      <td>0.722737</td>\n",
              "    </tr>\n",
              "    <tr>\n",
              "      <th>review_aroma</th>\n",
              "      <td>0.531204</td>\n",
              "      <td>0.703428</td>\n",
              "      <td>0.722737</td>\n",
              "      <td>1.000000</td>\n",
              "    </tr>\n",
              "  </tbody>\n",
              "</table>\n",
              "</div>"
            ],
            "text/plain": [
              "                   review_appearance  ...  review_aroma\n",
              "review_appearance           1.000000  ...      0.531204\n",
              "review_palette              0.544724  ...      0.703428\n",
              "review_taste                0.551979  ...      0.722737\n",
              "review_aroma                0.531204  ...      1.000000\n",
              "\n",
              "[4 rows x 4 columns]"
            ]
          },
          "metadata": {
            "tags": []
          }
        }
      ]
    },
    {
      "cell_type": "markdown",
      "metadata": {
        "id": "OkGkiQ15hMAc"
      },
      "source": [
        "As there is review_aroma and review_taste, highly corelate to each other. Therefore, we should remove review_taste from the dataframe and consider as predictor to derive impportnat factor for beer"
      ]
    },
    {
      "cell_type": "code",
      "metadata": {
        "id": "D4RAM8_Yi5ss"
      },
      "source": [
        "revised_q3_sol = q3_sol.drop(['review_taste'], axis = 1).columns"
      ],
      "execution_count": 104,
      "outputs": []
    },
    {
      "cell_type": "code",
      "metadata": {
        "id": "XLTITF7jhl1Q"
      },
      "source": [
        "rnd_clf = RandomForestRegressor(n_estimators=500, n_jobs=-1, random_state=42)\n",
        "rnd_clf.fit(q3_sol[revised_q3_sol].values, q3_sol[\"review_taste\"].values)\n",
        "feature_importance = rnd_clf.feature_importances_"
      ],
      "execution_count": 105,
      "outputs": []
    },
    {
      "cell_type": "code",
      "metadata": {
        "id": "5ss_Tizjlikl",
        "outputId": "f7525ca6-27b2-40de-b86e-6dd84e18499d",
        "colab": {
          "base_uri": "https://localhost:8080/",
          "height": 34
        }
      },
      "source": [
        "print(revised_q3_sol,feature_importance)"
      ],
      "execution_count": 106,
      "outputs": [
        {
          "output_type": "stream",
          "text": [
            "Index(['review_appearance', 'review_palette', 'review_aroma'], dtype='object') [0.07565518 0.01709533 0.90724949]\n"
          ],
          "name": "stdout"
        }
      ]
    },
    {
      "cell_type": "code",
      "metadata": {
        "id": "dx_AhTF0l0ld"
      },
      "source": [
        "feature_name_list = []\n",
        "feature_score_list = []\n",
        "for feature_name, feature_score in zip(revised_q3_sol,feature_importance):\n",
        "  feature_name_list.append(feature_name)\n",
        "  feature_score_list.append(feature_score)\n"
      ],
      "execution_count": 107,
      "outputs": []
    },
    {
      "cell_type": "code",
      "metadata": {
        "id": "mmqVoyYYnq8_"
      },
      "source": [
        "dict_data = {'feature_name':feature_name_list,'feature_score':feature_score_list}\n",
        "plot_data = pd.DataFrame(dict_data, index = ['review_appearance','review_palette','review_aroma'])"
      ],
      "execution_count": 108,
      "outputs": []
    },
    {
      "cell_type": "code",
      "metadata": {
        "id": "NI4gZzJ8qFZR",
        "outputId": "61a86d22-2ed2-42c1-87c3-ae223d7a598a",
        "colab": {
          "base_uri": "https://localhost:8080/",
          "height": 85
        }
      },
      "source": [
        "plot_data['feature_score']"
      ],
      "execution_count": 109,
      "outputs": [
        {
          "output_type": "execute_result",
          "data": {
            "text/plain": [
              "review_appearance    0.075655\n",
              "review_palette       0.017095\n",
              "review_aroma         0.907249\n",
              "Name: feature_score, dtype: float64"
            ]
          },
          "metadata": {
            "tags": []
          },
          "execution_count": 109
        }
      ]
    },
    {
      "cell_type": "code",
      "metadata": {
        "id": "V_RaswlEmvYW",
        "outputId": "c23a04ab-2042-4c59-9ac7-4f5096bad56e",
        "colab": {
          "base_uri": "https://localhost:8080/",
          "height": 302
        }
      },
      "source": [
        "sns.barplot(x = plot_data.index, y = plot_data['feature_score'], data = plot_data);\n",
        "plt.xlabel('Name of Features')\n",
        "plt.ylabel('Values')\n",
        "plt.title('Feature Importance');"
      ],
      "execution_count": 110,
      "outputs": [
        {
          "output_type": "display_data",
          "data": {
            "image/png": "[encoded data removed]",
            "text/plain": [
              "<Figure size 432x288 with 1 Axes>"
            ]
          },
          "metadata": {
            "tags": []
          }
        }
      ]
    },
    {
      "cell_type": "markdown",
      "metadata": {
        "id": "cIjJhwo8wiW9"
      },
      "source": [
        "# Answer 3 Based on  the analysis, we can say that review_aroma is important factor amongst the all features"
      ]
    },
    {
      "cell_type": "markdown",
      "metadata": {
        "id": "i2ij4hd4ws7s"
      },
      "source": [
        "# Question 4 If you were to recommend 3 beers to your friends based on this data which ones will you recommend?"
      ]
    },
    {
      "cell_type": "markdown",
      "metadata": {
        "id": "M0EvmBKCLnlb"
      },
      "source": [
        "There are many factors on those factors, we can recommend best beer.\n",
        "Such factors are beer_ABV, review_appearance, review_palette, review_overall, review_taste and review_aroma"
      ]
    },
    {
      "cell_type": "code",
      "metadata": {
        "id": "CLr5nhQ1LQPY",
        "outputId": "9fcfe3d2-f642-4594-bcfa-179db6e1dfa0",
        "colab": {
          "base_uri": "https://localhost:8080/",
          "height": 85
        }
      },
      "source": [
        "beer_data.columns"
      ],
      "execution_count": 111,
      "outputs": [
        {
          "output_type": "execute_result",
          "data": {
            "text/plain": [
              "Index(['beer_ABV', 'beer_beerId', 'beer_brewerId', 'beer_name', 'beer_style',\n",
              "       'review_appearance', 'review_palette', 'review_overall', 'review_taste',\n",
              "       'review_profileName', 'review_aroma', 'review_text', 'review_time'],\n",
              "      dtype='object')"
            ]
          },
          "metadata": {
            "tags": []
          },
          "execution_count": 111
        }
      ]
    },
    {
      "cell_type": "code",
      "metadata": {
        "id": "_ap7_VtEMkIm"
      },
      "source": [
        "recommend_beer = beer_data.groupby('beer_name').agg({'review_overall':np.mean,\n",
        "                                                     'beer_ABV':np.mean,\n",
        "                                                     'review_appearance':np.mean,\n",
        "                                                     'review_palette':np.mean,\n",
        "                                                     'review_taste':np.mean,\n",
        "                                                     'review_aroma':np.mean})\n",
        "selection_of_beer = pd.DataFrame(recommend_beer.reset_index())\n",
        "\n",
        "selection_of_top_3 = selection_of_beer.sort_values(['review_overall','beer_ABV','review_appearance','review_palette','review_taste'],\n",
        "                                                   ascending = [False, False, False, False, False])\n"
      ],
      "execution_count": 112,
      "outputs": []
    },
    {
      "cell_type": "code",
      "metadata": {
        "id": "_Xm0mqs3M0ZV",
        "outputId": "a458661d-a0ed-4783-ee06-0264c93056ed",
        "colab": {
          "base_uri": "https://localhost:8080/",
          "height": 176
        }
      },
      "source": [
        "selection_of_top_3[:3]"
      ],
      "execution_count": 113,
      "outputs": [
        {
          "output_type": "execute_result",
          "data": {
            "text/html": [
              "<div>\n",
              "<style scoped>\n",
              "    .dataframe tbody tr th:only-of-type {\n",
              "        vertical-align: middle;\n",
              "    }\n",
              "\n",
              "    .dataframe tbody tr th {\n",
              "        vertical-align: top;\n",
              "    }\n",
              "\n",
              "    .dataframe thead th {\n",
              "        text-align: right;\n",
              "    }\n",
              "</style>\n",
              "<table border=\"1\" class=\"dataframe\">\n",
              "  <thead>\n",
              "    <tr style=\"text-align: right;\">\n",
              "      <th></th>\n",
              "      <th>beer_name</th>\n",
              "      <th>review_overall</th>\n",
              "      <th>beer_ABV</th>\n",
              "      <th>review_appearance</th>\n",
              "      <th>review_palette</th>\n",
              "      <th>review_taste</th>\n",
              "      <th>review_aroma</th>\n",
              "    </tr>\n",
              "  </thead>\n",
              "  <tbody>\n",
              "    <tr>\n",
              "      <th>444</th>\n",
              "      <td>AleSmith Speedway Stout - Oak Aged</td>\n",
              "      <td>5.0</td>\n",
              "      <td>12.0</td>\n",
              "      <td>5.0</td>\n",
              "      <td>4.5</td>\n",
              "      <td>5.0</td>\n",
              "      <td>4.5</td>\n",
              "    </tr>\n",
              "    <tr>\n",
              "      <th>9624</th>\n",
              "      <td>Pilot Series Imperial Sweet Stout - Palm Ridge...</td>\n",
              "      <td>5.0</td>\n",
              "      <td>12.0</td>\n",
              "      <td>4.0</td>\n",
              "      <td>4.5</td>\n",
              "      <td>4.5</td>\n",
              "      <td>4.5</td>\n",
              "    </tr>\n",
              "    <tr>\n",
              "      <th>1330</th>\n",
              "      <td>Bees Knees Barleywine</td>\n",
              "      <td>5.0</td>\n",
              "      <td>11.2</td>\n",
              "      <td>4.0</td>\n",
              "      <td>4.5</td>\n",
              "      <td>4.0</td>\n",
              "      <td>4.5</td>\n",
              "    </tr>\n",
              "  </tbody>\n",
              "</table>\n",
              "</div>"
            ],
            "text/plain": [
              "                                              beer_name  ...  review_aroma\n",
              "444                  AleSmith Speedway Stout - Oak Aged  ...           4.5\n",
              "9624  Pilot Series Imperial Sweet Stout - Palm Ridge...  ...           4.5\n",
              "1330                              Bees Knees Barleywine  ...           4.5\n",
              "\n",
              "[3 rows x 7 columns]"
            ]
          },
          "metadata": {
            "tags": []
          },
          "execution_count": 113
        }
      ]
    },
    {
      "cell_type": "markdown",
      "metadata": {
        "id": "JzbxVWUMf4tx"
      },
      "source": [
        "# Answer 4 The top 3 beer recommend\n",
        "\n",
        "1.   AleSmith Speedway Stout - Oak Aged\t\n",
        "2.   Pilot Series Imperial Sweet Stout - Palm Ridge...\t\n",
        "3. Bees Knees Barleywine\t\n",
        "\n",
        "\n",
        "\n"
      ]
    },
    {
      "cell_type": "markdown",
      "metadata": {
        "id": "mZnuPWoGmUyC"
      },
      "source": [
        "# Question 5.\tWhich Beer style seems to be the favorite based on reviews written by users? "
      ]
    },
    {
      "cell_type": "markdown",
      "metadata": {
        "id": "zgel-6T8mdLG"
      },
      "source": [
        "Here, we count total review for each beer style.\n",
        "\n",
        "Then"
      ]
    },
    {
      "cell_type": "code",
      "metadata": {
        "id": "izG16ZGVmT2x"
      },
      "source": [
        "s = beer_data.groupby(['beer_style'])['review_text'].count().sort_values(ascending= False)\n",
        "#s = beer_data.groupby('beer_style')['review_text'].count().sort_values(ascending= True)"
      ],
      "execution_count": 114,
      "outputs": []
    },
    {
      "cell_type": "code",
      "metadata": {
        "id": "A2UxEHhMwl5w",
        "outputId": "b98e72af-6a23-4051-f952-463ea5caf485",
        "colab": {
          "base_uri": "https://localhost:8080/",
          "height": 249
        }
      },
      "source": [
        "s = s[0:10]\n",
        "plt.figure(figsize=(20,4)) \n",
        "sns.barplot(x = s.index, y= s.values)"
      ],
      "execution_count": 115,
      "outputs": [
        {
          "output_type": "execute_result",
          "data": {
            "text/plain": [
              "<matplotlib.axes._subplots.AxesSubplot at 0x7f0231e3f320>"
            ]
          },
          "metadata": {
            "tags": []
          },
          "execution_count": 115
        },
        {
          "output_type": "display_data",
          "data": {
            "image/png": "[encoded data removed]",
            "text/plain": [
              "<Figure size 1440x288 with 1 Axes>"
            ]
          },
          "metadata": {
            "tags": []
          }
        }
      ]
    },
    {
      "cell_type": "code",
      "metadata": {
        "id": "6fLJZKNbva1q"
      },
      "source": [
        "list_of_beer_style = s.index[0:10]"
      ],
      "execution_count": 116,
      "outputs": []
    },
    {
      "cell_type": "code",
      "metadata": {
        "id": "3aLsSaz9vj0P"
      },
      "source": [
        "list_beer_mean = []\n",
        "for i in range(len(list_of_beer_style)):\n",
        "  x = beer_data[beer_data['beer_style']==list_of_beer_style[i]]['review_overall'].mean()\n",
        "  list_beer_mean.append([x, list_of_beer_style[i]])"
      ],
      "execution_count": 156,
      "outputs": []
    },
    {
      "cell_type": "code",
      "metadata": {
        "id": "Bx624377Akz1",
        "outputId": "31945a97-ece7-4260-9780-936111382a73",
        "colab": {
          "base_uri": "https://localhost:8080/",
          "height": 187
        }
      },
      "source": [
        "list_beer_mean"
      ],
      "execution_count": 157,
      "outputs": [
        {
          "output_type": "execute_result",
          "data": {
            "text/plain": [
              "[[3.9948683835408154, 'American IPA'],\n",
              " [3.953221364570808, 'American Double / Imperial IPA'],\n",
              " [4.10059503276992, 'American Double / Imperial Stout'],\n",
              " [3.884397800571006, 'American Pale Ale (APA)'],\n",
              " [3.879104647199182, 'American Amber / Red Ale'],\n",
              " [4.029481132075472, 'Russian Imperial Stout'],\n",
              " [3.888120475698035, 'American Porter'],\n",
              " [4.009565160616349, 'Belgian Strong Dark Ale'],\n",
              " [3.5638116070818238, 'Fruit / Vegetable Beer'],\n",
              " [3.7659759509944792, 'Witbier']]"
            ]
          },
          "metadata": {
            "tags": []
          },
          "execution_count": 157
        }
      ]
    },
    {
      "cell_type": "code",
      "metadata": {
        "id": "RYFQ7FqvzCeQ"
      },
      "source": [
        "list_beer_mean.sort(key = lambda i: i[0], reverse = True)"
      ],
      "execution_count": 158,
      "outputs": []
    },
    {
      "cell_type": "code",
      "metadata": {
        "id": "RCE0IYxK9Itm",
        "outputId": "e743c2e6-2d6a-4b34-9dd4-757fd460dd8f",
        "colab": {
          "base_uri": "https://localhost:8080/",
          "height": 187
        }
      },
      "source": [
        "list_beer_mean"
      ],
      "execution_count": 159,
      "outputs": [
        {
          "output_type": "execute_result",
          "data": {
            "text/plain": [
              "[[4.10059503276992, 'American Double / Imperial Stout'],\n",
              " [4.029481132075472, 'Russian Imperial Stout'],\n",
              " [4.009565160616349, 'Belgian Strong Dark Ale'],\n",
              " [3.9948683835408154, 'American IPA'],\n",
              " [3.953221364570808, 'American Double / Imperial IPA'],\n",
              " [3.888120475698035, 'American Porter'],\n",
              " [3.884397800571006, 'American Pale Ale (APA)'],\n",
              " [3.879104647199182, 'American Amber / Red Ale'],\n",
              " [3.7659759509944792, 'Witbier'],\n",
              " [3.5638116070818238, 'Fruit / Vegetable Beer']]"
            ]
          },
          "metadata": {
            "tags": []
          },
          "execution_count": 159
        }
      ]
    },
    {
      "cell_type": "markdown",
      "metadata": {
        "id": "bLlYwqkAAwcu"
      },
      "source": [
        "# Answer 5 : - As we have derived first count of review text for each beer_style and then we have used overall_rating for each beer_style as mean\n",
        "\n",
        "So, we now derived there are three main beer_Style we can ask to user to taste\n",
        "\n",
        "\n",
        "\n",
        "*   American Double / Imperial Stout\n",
        "*   Russian Imperial Stout\n",
        "* Belgian Strong Dark Ale\n",
        "\n"
      ]
    },
    {
      "cell_type": "markdown",
      "metadata": {
        "id": "X53BCITdHUfs"
      },
      "source": [
        "#Question 6 Which Beer style seems to be the favorite based on reviews written by users? "
      ]
    },
    {
      "cell_type": "markdown",
      "metadata": {
        "id": "waYl7AzgIvBI"
      },
      "source": [
        "First we will count review on basis of beer style.\n",
        "Then sort the beer style by counts \n",
        "\n",
        "In next step, we will retrieved review_overall by each beer style to understand which beer style is favourite brand.\n",
        "\n",
        "Then we will plot the data on historgram.\n",
        "\n",
        "As per analysis, we can say that American IPA is one of the best beer style"
      ]
    },
    {
      "cell_type": "code",
      "metadata": {
        "id": "bplaLru_Br2V"
      },
      "source": [
        "s = beer_data.groupby('beer_style')['review_text'].count().sort_values(ascending= False)"
      ],
      "execution_count": 352,
      "outputs": []
    },
    {
      "cell_type": "code",
      "metadata": {
        "id": "9dyUzalvksF9",
        "outputId": "8cc54a0c-34c7-4be3-a31d-ca908c0fcc4a",
        "colab": {
          "base_uri": "https://localhost:8080/",
          "height": 339
        }
      },
      "source": [
        "sns.swarmplot(s);"
      ],
      "execution_count": 353,
      "outputs": [
        {
          "output_type": "stream",
          "text": [
            "/usr/local/lib/python3.6/dist-packages/seaborn/_decorators.py:43: FutureWarning: Pass the following variable as a keyword arg: x. From version 0.12, the only valid positional argument will be `data`, and passing other arguments without an explicit keyword will result in an error or misinterpretation.\n",
            "  FutureWarning\n"
          ],
          "name": "stderr"
        },
        {
          "output_type": "display_data",
          "data": {
            "image/png": "[encoded data removed]",
            "text/plain": [
              "<Figure size 432x288 with 1 Axes>"
            ]
          },
          "metadata": {
            "tags": []
          }
        }
      ]
    },
    {
      "cell_type": "code",
      "metadata": {
        "id": "um2blj18lQsb",
        "outputId": "b156b77c-ec00-4a63-d53b-599cc95f2ff7",
        "colab": {
          "base_uri": "https://localhost:8080/",
          "height": 339
        }
      },
      "source": [
        "sns.swarmplot(s.head(10));"
      ],
      "execution_count": 354,
      "outputs": [
        {
          "output_type": "stream",
          "text": [
            "/usr/local/lib/python3.6/dist-packages/seaborn/_decorators.py:43: FutureWarning: Pass the following variable as a keyword arg: x. From version 0.12, the only valid positional argument will be `data`, and passing other arguments without an explicit keyword will result in an error or misinterpretation.\n",
            "  FutureWarning\n"
          ],
          "name": "stderr"
        },
        {
          "output_type": "display_data",
          "data": {
            "image/png": "[encoded data removed]",
            "text/plain": [
              "<Figure size 432x288 with 1 Axes>"
            ]
          },
          "metadata": {
            "tags": []
          }
        }
      ]
    },
    {
      "cell_type": "code",
      "metadata": {
        "id": "8yKpw4KSByrf",
        "outputId": "ffba6858-bb94-4e56-b4aa-bfadb9878726",
        "colab": {
          "base_uri": "https://localhost:8080/",
          "height": 221
        }
      },
      "source": [
        "s.head(10)"
      ],
      "execution_count": 355,
      "outputs": [
        {
          "output_type": "execute_result",
          "data": {
            "text/plain": [
              "beer_style\n",
              "American IPA                        42092\n",
              "American Double / Imperial IPA      25781\n",
              "American Double / Imperial Stout    23192\n",
              "American Pale Ale (APA)             18914\n",
              "American Amber / Red Ale            17602\n",
              "Russian Imperial Stout              16960\n",
              "American Porter                     15472\n",
              "Belgian Strong Dark Ale             15316\n",
              "Fruit / Vegetable Beer              14629\n",
              "Witbier                             13223\n",
              "Name: review_text, dtype: int64"
            ]
          },
          "metadata": {
            "tags": []
          },
          "execution_count": 355
        }
      ]
    },
    {
      "cell_type": "code",
      "metadata": {
        "id": "awVydSaXF1Rg"
      },
      "source": [
        "s.index"
      ],
      "execution_count": null,
      "outputs": []
    },
    {
      "cell_type": "code",
      "metadata": {
        "id": "iatMkJvoDaS-"
      },
      "source": [
        "new = s.index"
      ],
      "execution_count": null,
      "outputs": []
    },
    {
      "cell_type": "code",
      "metadata": {
        "id": "1fJ13LJhDpaC"
      },
      "source": [
        "new=new[:10]"
      ],
      "execution_count": null,
      "outputs": []
    },
    {
      "cell_type": "code",
      "metadata": {
        "id": "sBDRuHMKDcyx"
      },
      "source": [
        "best_beer = []\n",
        "for i in range(len(new)):\n",
        "\n",
        "  #print(new[i])\n",
        "  best_beer.append([new[i], beer_data[beer_data['beer_style']==new[i]]['review_overall'].sum()])"
      ],
      "execution_count": null,
      "outputs": []
    },
    {
      "cell_type": "code",
      "metadata": {
        "id": "WV33iUI1EUQ-"
      },
      "source": [
        "best_beer"
      ],
      "execution_count": null,
      "outputs": []
    },
    {
      "cell_type": "code",
      "metadata": {
        "id": "wrXWXmAJCBPT"
      },
      "source": [
        "convert_best_beer = pd.DataFrame(best_beer,columns = ['Beer_style','count'])"
      ],
      "execution_count": null,
      "outputs": []
    },
    {
      "cell_type": "code",
      "metadata": {
        "id": "Mmk4Jj3ggmxN",
        "outputId": "38ca1019-8c90-488a-cce0-9e1f383aaefa",
        "colab": {
          "base_uri": "https://localhost:8080/",
          "height": 359
        }
      },
      "source": [
        "convert_best_beer"
      ],
      "execution_count": 335,
      "outputs": [
        {
          "output_type": "execute_result",
          "data": {
            "text/html": [
              "<div>\n",
              "<style scoped>\n",
              "    .dataframe tbody tr th:only-of-type {\n",
              "        vertical-align: middle;\n",
              "    }\n",
              "\n",
              "    .dataframe tbody tr th {\n",
              "        vertical-align: top;\n",
              "    }\n",
              "\n",
              "    .dataframe thead th {\n",
              "        text-align: right;\n",
              "    }\n",
              "</style>\n",
              "<table border=\"1\" class=\"dataframe\">\n",
              "  <thead>\n",
              "    <tr style=\"text-align: right;\">\n",
              "      <th></th>\n",
              "      <th>Beer_style</th>\n",
              "      <th>count</th>\n",
              "    </tr>\n",
              "  </thead>\n",
              "  <tbody>\n",
              "    <tr>\n",
              "      <th>0</th>\n",
              "      <td>American IPA</td>\n",
              "      <td>168152.0</td>\n",
              "    </tr>\n",
              "    <tr>\n",
              "      <th>1</th>\n",
              "      <td>American Double / Imperial IPA</td>\n",
              "      <td>101918.0</td>\n",
              "    </tr>\n",
              "    <tr>\n",
              "      <th>2</th>\n",
              "      <td>American Double / Imperial Stout</td>\n",
              "      <td>95101.0</td>\n",
              "    </tr>\n",
              "    <tr>\n",
              "      <th>3</th>\n",
              "      <td>American Pale Ale (APA)</td>\n",
              "      <td>73469.5</td>\n",
              "    </tr>\n",
              "    <tr>\n",
              "      <th>4</th>\n",
              "      <td>American Amber / Red Ale</td>\n",
              "      <td>68280.0</td>\n",
              "    </tr>\n",
              "    <tr>\n",
              "      <th>5</th>\n",
              "      <td>Russian Imperial Stout</td>\n",
              "      <td>68340.0</td>\n",
              "    </tr>\n",
              "    <tr>\n",
              "      <th>6</th>\n",
              "      <td>American Porter</td>\n",
              "      <td>60157.0</td>\n",
              "    </tr>\n",
              "    <tr>\n",
              "      <th>7</th>\n",
              "      <td>Belgian Strong Dark Ale</td>\n",
              "      <td>61410.5</td>\n",
              "    </tr>\n",
              "    <tr>\n",
              "      <th>8</th>\n",
              "      <td>Fruit / Vegetable Beer</td>\n",
              "      <td>52135.0</td>\n",
              "    </tr>\n",
              "    <tr>\n",
              "      <th>9</th>\n",
              "      <td>Witbier</td>\n",
              "      <td>49797.5</td>\n",
              "    </tr>\n",
              "  </tbody>\n",
              "</table>\n",
              "</div>"
            ],
            "text/plain": [
              "                         Beer_style     count\n",
              "0                      American IPA  168152.0\n",
              "1    American Double / Imperial IPA  101918.0\n",
              "2  American Double / Imperial Stout   95101.0\n",
              "3           American Pale Ale (APA)   73469.5\n",
              "4          American Amber / Red Ale   68280.0\n",
              "5            Russian Imperial Stout   68340.0\n",
              "6                   American Porter   60157.0\n",
              "7           Belgian Strong Dark Ale   61410.5\n",
              "8            Fruit / Vegetable Beer   52135.0\n",
              "9                           Witbier   49797.5"
            ]
          },
          "metadata": {
            "tags": []
          },
          "execution_count": 335
        }
      ]
    },
    {
      "cell_type": "code",
      "metadata": {
        "id": "HFs_yMjdCPS7",
        "outputId": "b7101f61-e731-40f2-d93a-7dbaa89f0753",
        "colab": {
          "base_uri": "https://localhost:8080/",
          "height": 301
        }
      },
      "source": [
        "sns.barplot(x = convert_best_beer['Beer_style'], y = convert_best_beer['count'], data = convert_best_beer);\n",
        "plt.xlabel('Beer Style')\n",
        "plt.ylabel('Count')\n",
        "plt.title('favourite Beer style on basis of review' );"
      ],
      "execution_count": 336,
      "outputs": [
        {
          "output_type": "display_data",
          "data": {
            "image/png": "[encoded data removed]",
            "text/plain": [
              "<Figure size 432x288 with 1 Axes>"
            ]
          },
          "metadata": {
            "tags": []
          }
        }
      ]
    },
    {
      "cell_type": "markdown",
      "metadata": {
        "id": "_0WPUbTWhIgm"
      },
      "source": [
        "#Answer 6 As per over all review score against wrtten review,we can say that below are best beer style\n",
        "\n",
        "\n",
        "\n",
        "*   American Double / Imperial IPA\t\n",
        "*   American Double / Imperial Stout\t\n",
        "* American Pale Ale (APA)\t\n",
        "\n"
      ]
    }
  ]
}